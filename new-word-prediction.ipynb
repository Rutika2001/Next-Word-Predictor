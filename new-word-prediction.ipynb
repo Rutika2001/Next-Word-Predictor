{
 "cells": [
  {
   "cell_type": "code",
   "execution_count": 1,
   "id": "constant-baptist",
   "metadata": {
    "_cell_guid": "b1076dfc-b9ad-4769-8c92-a6c4dae69d19",
    "_uuid": "8f2839f25d086af736a60e9eeb907d3b93b6e0e5",
    "execution": {
     "iopub.execute_input": "2021-06-03T11:32:44.052400Z",
     "iopub.status.busy": "2021-06-03T11:32:44.051207Z",
     "iopub.status.idle": "2021-06-03T11:32:44.069804Z",
     "shell.execute_reply": "2021-06-03T11:32:44.068998Z",
     "shell.execute_reply.started": "2021-06-03T10:19:35.079852Z"
    },
    "papermill": {
     "duration": 0.036618,
     "end_time": "2021-06-03T11:32:44.069968",
     "exception": false,
     "start_time": "2021-06-03T11:32:44.033350",
     "status": "completed"
    },
    "tags": []
   },
   "outputs": [
    {
     "name": "stdout",
     "output_type": "stream",
     "text": [
      "/kaggle/input/next-word-data/1661-0.txt\n"
     ]
    }
   ],
   "source": [
    "# This Python 3 environment comes with many helpful analytics libraries installed\n",
    "# It is defined by the kaggle/python Docker image: https://github.com/kaggle/docker-python\n",
    "# For example, here's several helpful packages to load\n",
    "\n",
    "import numpy as np # linear algebra\n",
    "import pandas as pd # data processing, CSV file I/O (e.g. pd.read_csv)\n",
    "\n",
    "# Input data files are available in the read-only \"../input/\" directory\n",
    "# For example, running this (by clicking run or pressing Shift+Enter) will list all files under the input directory\n",
    "\n",
    "import os\n",
    "for dirname, _, filenames in os.walk('/kaggle/input'):\n",
    "    for filename in filenames:\n",
    "        print(os.path.join(dirname, filename))\n",
    "\n",
    "# You can write up to 20GB to the current directory (/kaggle/working/) that gets preserved as output when you create a version using \"Save & Run All\" \n",
    "# You can also write temporary files to /kaggle/temp/, but they won't be saved outside of the current session"
   ]
  },
  {
   "cell_type": "code",
   "execution_count": 2,
   "id": "amber-stocks",
   "metadata": {
    "execution": {
     "iopub.execute_input": "2021-06-03T11:32:44.105125Z",
     "iopub.status.busy": "2021-06-03T11:32:44.104407Z",
     "iopub.status.idle": "2021-06-03T11:32:50.554076Z",
     "shell.execute_reply": "2021-06-03T11:32:50.552926Z",
     "shell.execute_reply.started": "2021-06-03T10:19:39.481011Z"
    },
    "papermill": {
     "duration": 6.469481,
     "end_time": "2021-06-03T11:32:50.554228",
     "exception": false,
     "start_time": "2021-06-03T11:32:44.084747",
     "status": "completed"
    },
    "tags": []
   },
   "outputs": [],
   "source": [
    "import numpy as np\n",
    "from nltk.tokenize import RegexpTokenizer\n",
    "from keras.models import Sequential, load_model\n",
    "from keras.layers import LSTM\n",
    "from keras.layers.core import Dense, Activation\n",
    "from keras.optimizers import RMSprop\n",
    "import matplotlib.pyplot as plt\n",
    "import pickle\n",
    "import heapq"
   ]
  },
  {
   "cell_type": "code",
   "execution_count": 3,
   "id": "increased-possible",
   "metadata": {
    "execution": {
     "iopub.execute_input": "2021-06-03T11:32:50.592603Z",
     "iopub.status.busy": "2021-06-03T11:32:50.591909Z",
     "iopub.status.idle": "2021-06-03T11:32:50.625514Z",
     "shell.execute_reply": "2021-06-03T11:32:50.625984Z",
     "shell.execute_reply.started": "2021-06-03T10:20:57.296325Z"
    },
    "papermill": {
     "duration": 0.057789,
     "end_time": "2021-06-03T11:32:50.626162",
     "exception": false,
     "start_time": "2021-06-03T11:32:50.568373",
     "status": "completed"
    },
    "tags": []
   },
   "outputs": [
    {
     "name": "stdout",
     "output_type": "stream",
     "text": [
      "corpus length: 581888\n"
     ]
    }
   ],
   "source": [
    "path = '/kaggle/input/next-word-data/1661-0.txt'\n",
    "text = open(path).read().lower()\n",
    "print('corpus length:', len(text))"
   ]
  },
  {
   "cell_type": "code",
   "execution_count": 4,
   "id": "initial-fiber",
   "metadata": {
    "execution": {
     "iopub.execute_input": "2021-06-03T11:32:50.701391Z",
     "iopub.status.busy": "2021-06-03T11:32:50.700671Z",
     "iopub.status.idle": "2021-06-03T11:32:50.704016Z",
     "shell.execute_reply": "2021-06-03T11:32:50.703412Z",
     "shell.execute_reply.started": "2021-06-03T10:22:22.553022Z"
    },
    "papermill": {
     "duration": 0.063755,
     "end_time": "2021-06-03T11:32:50.704148",
     "exception": false,
     "start_time": "2021-06-03T11:32:50.640393",
     "status": "completed"
    },
    "tags": []
   },
   "outputs": [],
   "source": [
    "tokenizer = RegexpTokenizer(r'\\w+')\n",
    "words = tokenizer.tokenize(text)"
   ]
  },
  {
   "cell_type": "code",
   "execution_count": 5,
   "id": "strong-queue",
   "metadata": {
    "execution": {
     "iopub.execute_input": "2021-06-03T11:32:50.767551Z",
     "iopub.status.busy": "2021-06-03T11:32:50.766852Z",
     "iopub.status.idle": "2021-06-03T11:32:50.807706Z",
     "shell.execute_reply": "2021-06-03T11:32:50.808182Z",
     "shell.execute_reply.started": "2021-06-03T10:26:09.504098Z"
    },
    "papermill": {
     "duration": 0.089887,
     "end_time": "2021-06-03T11:32:50.808387",
     "exception": false,
     "start_time": "2021-06-03T11:32:50.718500",
     "status": "completed"
    },
    "tags": []
   },
   "outputs": [],
   "source": [
    "unique_words = np.unique(words)\n",
    "unique_word_index = dict((c, i) for i, c in enumerate(unique_words))"
   ]
  },
  {
   "cell_type": "code",
   "execution_count": 6,
   "id": "exciting-breed",
   "metadata": {
    "execution": {
     "iopub.execute_input": "2021-06-03T11:32:51.023041Z",
     "iopub.status.busy": "2021-06-03T11:32:51.017815Z",
     "iopub.status.idle": "2021-06-03T11:32:51.254054Z",
     "shell.execute_reply": "2021-06-03T11:32:51.254591Z",
     "shell.execute_reply.started": "2021-06-03T10:26:11.807700Z"
    },
    "papermill": {
     "duration": 0.431904,
     "end_time": "2021-06-03T11:32:51.254759",
     "exception": false,
     "start_time": "2021-06-03T11:32:50.822855",
     "status": "completed"
    },
    "tags": []
   },
   "outputs": [
    {
     "name": "stdout",
     "output_type": "stream",
     "text": [
      "['project', 'gutenberg', 's', 'the', 'adventures']\n",
      "of\n"
     ]
    }
   ],
   "source": [
    "WORD_LENGTH = 5\n",
    "prev_words = []\n",
    "next_words = []\n",
    "for i in range(len(words) - WORD_LENGTH):\n",
    "    prev_words.append(words[i:i + WORD_LENGTH])\n",
    "    next_words.append(words[i + WORD_LENGTH])\n",
    "print(prev_words[0])\n",
    "print(next_words[0])"
   ]
  },
  {
   "cell_type": "code",
   "execution_count": 7,
   "id": "biblical-characterization",
   "metadata": {
    "execution": {
     "iopub.execute_input": "2021-06-03T11:32:51.332965Z",
     "iopub.status.busy": "2021-06-03T11:32:51.327743Z",
     "iopub.status.idle": "2021-06-03T11:32:53.318330Z",
     "shell.execute_reply": "2021-06-03T11:32:53.317646Z",
     "shell.execute_reply.started": "2021-06-03T10:26:14.269834Z"
    },
    "papermill": {
     "duration": 2.049043,
     "end_time": "2021-06-03T11:32:53.318481",
     "exception": false,
     "start_time": "2021-06-03T11:32:51.269438",
     "status": "completed"
    },
    "tags": []
   },
   "outputs": [],
   "source": [
    "X = np.zeros((len(prev_words), WORD_LENGTH, len(unique_words)), dtype=bool)\n",
    "Y = np.zeros((len(next_words), len(unique_words)), dtype=bool)\n",
    "for i, each_words in enumerate(prev_words):\n",
    "    for j, each_word in enumerate(each_words):\n",
    "        X[i, j, unique_word_index[each_word]] = 1\n",
    "    Y[i, unique_word_index[next_words[i]]] = 1"
   ]
  },
  {
   "cell_type": "code",
   "execution_count": 8,
   "id": "phantom-windows",
   "metadata": {
    "execution": {
     "iopub.execute_input": "2021-06-03T11:32:53.353232Z",
     "iopub.status.busy": "2021-06-03T11:32:53.352587Z",
     "iopub.status.idle": "2021-06-03T11:32:53.356592Z",
     "shell.execute_reply": "2021-06-03T11:32:53.357429Z",
     "shell.execute_reply.started": "2021-06-03T10:26:20.047161Z"
    },
    "papermill": {
     "duration": 0.024424,
     "end_time": "2021-06-03T11:32:53.357698",
     "exception": false,
     "start_time": "2021-06-03T11:32:53.333274",
     "status": "completed"
    },
    "tags": []
   },
   "outputs": [
    {
     "name": "stdout",
     "output_type": "stream",
     "text": [
      "[False False False ... False False False]\n"
     ]
    }
   ],
   "source": [
    "print(X[0][0])"
   ]
  },
  {
   "cell_type": "code",
   "execution_count": 9,
   "id": "earlier-wales",
   "metadata": {
    "execution": {
     "iopub.execute_input": "2021-06-03T11:32:53.394858Z",
     "iopub.status.busy": "2021-06-03T11:32:53.394202Z",
     "iopub.status.idle": "2021-06-03T11:32:53.807390Z",
     "shell.execute_reply": "2021-06-03T11:32:53.807856Z",
     "shell.execute_reply.started": "2021-06-03T10:26:22.214808Z"
    },
    "papermill": {
     "duration": 0.434031,
     "end_time": "2021-06-03T11:32:53.808041",
     "exception": false,
     "start_time": "2021-06-03T11:32:53.374010",
     "status": "completed"
    },
    "tags": []
   },
   "outputs": [],
   "source": [
    "model = Sequential()\n",
    "model.add(LSTM(128, input_shape=(WORD_LENGTH, len(unique_words))))\n",
    "model.add(Dense(len(unique_words)))\n",
    "model.add(Activation('softmax'))"
   ]
  },
  {
   "cell_type": "code",
   "execution_count": 10,
   "id": "related-albany",
   "metadata": {
    "execution": {
     "iopub.execute_input": "2021-06-03T11:32:53.841254Z",
     "iopub.status.busy": "2021-06-03T11:32:53.840653Z",
     "iopub.status.idle": "2021-06-03T12:24:37.156205Z",
     "shell.execute_reply": "2021-06-03T12:24:37.155537Z",
     "shell.execute_reply.started": "2021-06-03T10:34:53.763723Z"
    },
    "papermill": {
     "duration": 3103.333309,
     "end_time": "2021-06-03T12:24:37.156390",
     "exception": false,
     "start_time": "2021-06-03T11:32:53.823081",
     "status": "completed"
    },
    "tags": []
   },
   "outputs": [
    {
     "name": "stdout",
     "output_type": "stream",
     "text": [
      "Epoch 1/20\n",
      "811/811 [==============================] - 154s 188ms/step - loss: 6.3435 - accuracy: 0.0836 - val_loss: 7.0513 - val_accuracy: 0.1005\n",
      "Epoch 2/20\n",
      "811/811 [==============================] - 149s 184ms/step - loss: 5.6630 - accuracy: 0.1461 - val_loss: 7.9475 - val_accuracy: 0.1018\n",
      "Epoch 3/20\n",
      "811/811 [==============================] - 151s 186ms/step - loss: 5.6830 - accuracy: 0.1801 - val_loss: 8.1164 - val_accuracy: 0.1115\n",
      "Epoch 4/20\n",
      "811/811 [==============================] - 153s 189ms/step - loss: 5.3007 - accuracy: 0.2199 - val_loss: 8.3503 - val_accuracy: 0.0915\n",
      "Epoch 5/20\n",
      "811/811 [==============================] - 151s 186ms/step - loss: 4.9564 - accuracy: 0.2617 - val_loss: 8.4917 - val_accuracy: 0.0936\n",
      "Epoch 6/20\n",
      "811/811 [==============================] - 151s 186ms/step - loss: 4.6485 - accuracy: 0.3061 - val_loss: 8.5712 - val_accuracy: 0.0923\n",
      "Epoch 7/20\n",
      "811/811 [==============================] - 151s 186ms/step - loss: 4.3868 - accuracy: 0.3492 - val_loss: 8.6929 - val_accuracy: 0.0835\n",
      "Epoch 8/20\n",
      "811/811 [==============================] - 152s 187ms/step - loss: 4.2102 - accuracy: 0.3877 - val_loss: 8.8932 - val_accuracy: 0.0835\n",
      "Epoch 9/20\n",
      "811/811 [==============================] - 154s 189ms/step - loss: 4.0227 - accuracy: 0.4239 - val_loss: 8.9963 - val_accuracy: 0.0796\n",
      "Epoch 10/20\n",
      "811/811 [==============================] - 157s 194ms/step - loss: 3.8874 - accuracy: 0.4550 - val_loss: 9.2164 - val_accuracy: 0.0756\n",
      "Epoch 11/20\n",
      "811/811 [==============================] - 161s 199ms/step - loss: 3.7540 - accuracy: 0.4844 - val_loss: 9.2196 - val_accuracy: 0.0773\n",
      "Epoch 12/20\n",
      "811/811 [==============================] - 155s 191ms/step - loss: 3.7019 - accuracy: 0.5043 - val_loss: 9.3034 - val_accuracy: 0.0727\n",
      "Epoch 13/20\n",
      "811/811 [==============================] - 153s 189ms/step - loss: 3.6605 - accuracy: 0.5247 - val_loss: 9.4158 - val_accuracy: 0.0736\n",
      "Epoch 14/20\n",
      "811/811 [==============================] - 154s 189ms/step - loss: 3.5614 - accuracy: 0.5448 - val_loss: 9.5413 - val_accuracy: 0.0749\n",
      "Epoch 15/20\n",
      "811/811 [==============================] - 158s 195ms/step - loss: 3.5065 - accuracy: 0.5611 - val_loss: 9.7028 - val_accuracy: 0.0705\n",
      "Epoch 16/20\n",
      "811/811 [==============================] - 164s 202ms/step - loss: 3.4250 - accuracy: 0.5745 - val_loss: 9.9024 - val_accuracy: 0.0666\n",
      "Epoch 17/20\n",
      "811/811 [==============================] - 161s 199ms/step - loss: 3.3591 - accuracy: 0.5887 - val_loss: 10.0717 - val_accuracy: 0.0666\n",
      "Epoch 18/20\n",
      "811/811 [==============================] - 160s 197ms/step - loss: 3.3162 - accuracy: 0.5967 - val_loss: 10.1279 - val_accuracy: 0.0652\n",
      "Epoch 19/20\n",
      "811/811 [==============================] - 155s 191ms/step - loss: 3.1974 - accuracy: 0.6113 - val_loss: 10.3977 - val_accuracy: 0.0621\n",
      "Epoch 20/20\n",
      "811/811 [==============================] - 153s 188ms/step - loss: 3.1685 - accuracy: 0.6193 - val_loss: 10.5355 - val_accuracy: 0.0632\n"
     ]
    }
   ],
   "source": [
    "optimizer = RMSprop(lr=0.01)\n",
    "model.compile(loss='categorical_crossentropy', optimizer=optimizer, metrics=['accuracy'])\n",
    "history = model.fit(X, Y, validation_split=0.05, batch_size=128, epochs=20, shuffle=True).history"
   ]
  },
  {
   "cell_type": "code",
   "execution_count": 11,
   "id": "vocal-console",
   "metadata": {
    "execution": {
     "iopub.execute_input": "2021-06-03T12:24:47.226744Z",
     "iopub.status.busy": "2021-06-03T12:24:47.226060Z",
     "iopub.status.idle": "2021-06-03T12:24:47.670648Z",
     "shell.execute_reply": "2021-06-03T12:24:47.669914Z",
     "shell.execute_reply.started": "2021-06-03T11:27:21.960577Z"
    },
    "papermill": {
     "duration": 5.50523,
     "end_time": "2021-06-03T12:24:47.670808",
     "exception": false,
     "start_time": "2021-06-03T12:24:42.165578",
     "status": "completed"
    },
    "tags": []
   },
   "outputs": [],
   "source": [
    "model.save('keras_next_word_model.h5')\n",
    "pickle.dump(history, open(\"history.p\", \"wb\"))\n",
    "model = load_model('keras_next_word_model.h5')\n",
    "history = pickle.load(open(\"history.p\", \"rb\"))"
   ]
  },
  {
   "cell_type": "code",
   "execution_count": 12,
   "id": "surrounded-sympathy",
   "metadata": {
    "execution": {
     "iopub.execute_input": "2021-06-03T12:24:57.628274Z",
     "iopub.status.busy": "2021-06-03T12:24:57.623499Z",
     "iopub.status.idle": "2021-06-03T12:24:57.633801Z",
     "shell.execute_reply": "2021-06-03T12:24:57.633317Z",
     "shell.execute_reply.started": "2021-06-03T11:27:26.544405Z"
    },
    "papermill": {
     "duration": 4.957047,
     "end_time": "2021-06-03T12:24:57.633944",
     "exception": false,
     "start_time": "2021-06-03T12:24:52.676897",
     "status": "completed"
    },
    "tags": []
   },
   "outputs": [
    {
     "name": "stdout",
     "output_type": "stream",
     "text": [
      "it\n",
      "is\n",
      "not\n",
      "a\n",
      "lack\n"
     ]
    },
    {
     "data": {
      "text/plain": [
       "array([[[0., 0., 0., ..., 0., 0., 0.],\n",
       "        [0., 0., 0., ..., 0., 0., 0.],\n",
       "        [0., 0., 0., ..., 0., 0., 0.],\n",
       "        [0., 0., 0., ..., 0., 0., 0.],\n",
       "        [0., 0., 0., ..., 0., 0., 0.]]])"
      ]
     },
     "execution_count": 12,
     "metadata": {},
     "output_type": "execute_result"
    }
   ],
   "source": [
    "def prepare_input(text):\n",
    "    x = np.zeros((1, WORD_LENGTH, len(unique_words)))\n",
    "    for t, word in enumerate(text.split()):\n",
    "        print(word)\n",
    "        x[0, t, unique_word_index[word]] = 1\n",
    "    return x\n",
    "prepare_input(\"It is not a lack\".lower())"
   ]
  },
  {
   "cell_type": "code",
   "execution_count": 13,
   "id": "literary-aaron",
   "metadata": {
    "execution": {
     "iopub.execute_input": "2021-06-03T12:25:07.671090Z",
     "iopub.status.busy": "2021-06-03T12:25:07.670447Z",
     "iopub.status.idle": "2021-06-03T12:25:07.673574Z",
     "shell.execute_reply": "2021-06-03T12:25:07.672928Z",
     "shell.execute_reply.started": "2021-06-03T11:27:29.211916Z"
    },
    "papermill": {
     "duration": 5.01552,
     "end_time": "2021-06-03T12:25:07.673716",
     "exception": false,
     "start_time": "2021-06-03T12:25:02.658196",
     "status": "completed"
    },
    "tags": []
   },
   "outputs": [],
   "source": [
    "def sample(preds, top_n=3):\n",
    "    preds = np.asarray(preds).astype('float64')\n",
    "    preds = np.log(preds)\n",
    "    exp_preds = np.exp(preds)\n",
    "    preds = exp_preds / np.sum(exp_preds)\n",
    "\n",
    "    return heapq.nlargest(top_n, range(len(preds)), preds.take)"
   ]
  },
  {
   "cell_type": "code",
   "execution_count": 14,
   "id": "underlying-stroke",
   "metadata": {
    "execution": {
     "iopub.execute_input": "2021-06-03T12:25:17.655172Z",
     "iopub.status.busy": "2021-06-03T12:25:17.654162Z",
     "iopub.status.idle": "2021-06-03T12:25:17.657197Z",
     "shell.execute_reply": "2021-06-03T12:25:17.656688Z",
     "shell.execute_reply.started": "2021-06-03T11:27:31.673316Z"
    },
    "papermill": {
     "duration": 5.064107,
     "end_time": "2021-06-03T12:25:17.657351",
     "exception": false,
     "start_time": "2021-06-03T12:25:12.593244",
     "status": "completed"
    },
    "tags": []
   },
   "outputs": [],
   "source": [
    "def predict_completions(text, n=3):\n",
    "    if text == \"\":\n",
    "        return(\"0\")\n",
    "    x = prepare_input(text)\n",
    "    preds = model.predict(x, verbose=0)[0]\n",
    "    next_indices = sample(preds, n)\n",
    "    return [unique_words[idx] for idx in next_indices]"
   ]
  },
  {
   "cell_type": "code",
   "execution_count": 15,
   "id": "individual-dream",
   "metadata": {
    "execution": {
     "iopub.execute_input": "2021-06-03T12:25:27.694238Z",
     "iopub.status.busy": "2021-06-03T12:25:27.692583Z",
     "iopub.status.idle": "2021-06-03T12:25:28.113601Z",
     "shell.execute_reply": "2021-06-03T12:25:28.114862Z",
     "shell.execute_reply.started": "2021-06-03T11:31:28.464820Z"
    },
    "papermill": {
     "duration": 5.379535,
     "end_time": "2021-06-03T12:25:28.115185",
     "exception": false,
     "start_time": "2021-06-03T12:25:22.735650",
     "status": "completed"
    },
    "tags": []
   },
   "outputs": [
    {
     "name": "stdout",
     "output_type": "stream",
     "text": [
      "correct sentence:  Obviously they have been caused by someone who has very carelessly scraped \n",
      "Sequence:  obviously they have been caused\n",
      "obviously\n",
      "they\n",
      "have\n",
      "been\n",
      "caused\n",
      "next possible words:  ['by', 'of', 'the', 'some', 'they']\n"
     ]
    }
   ],
   "source": [
    "q =  \"Obviously they have been caused by someone who has very carelessly scraped \"\n",
    "print(\"correct sentence: \",q)\n",
    "seq = \" \".join(tokenizer.tokenize(q.lower())[0:5])\n",
    "print(\"Sequence: \",seq)\n",
    "print(\"next possible words: \", predict_completions(seq, 5))"
   ]
  },
  {
   "cell_type": "code",
   "execution_count": null,
   "id": "pressed-disco",
   "metadata": {
    "papermill": {
     "duration": 4.913252,
     "end_time": "2021-06-03T12:25:37.970575",
     "exception": false,
     "start_time": "2021-06-03T12:25:33.057323",
     "status": "completed"
    },
    "tags": []
   },
   "outputs": [],
   "source": []
  }
 ],
 "metadata": {
  "kernelspec": {
   "display_name": "Python 3",
   "language": "python",
   "name": "python3"
  },
  "language_info": {
   "codemirror_mode": {
    "name": "ipython",
    "version": 3
   },
   "file_extension": ".py",
   "mimetype": "text/x-python",
   "name": "python",
   "nbconvert_exporter": "python",
   "pygments_lexer": "ipython3",
   "version": "3.7.9"
  },
  "papermill": {
   "default_parameters": {},
   "duration": 3186.461365,
   "end_time": "2021-06-03T12:25:44.549044",
   "environment_variables": {},
   "exception": null,
   "input_path": "__notebook__.ipynb",
   "output_path": "__notebook__.ipynb",
   "parameters": {},
   "start_time": "2021-06-03T11:32:38.087679",
   "version": "2.3.2"
  }
 },
 "nbformat": 4,
 "nbformat_minor": 5
}
